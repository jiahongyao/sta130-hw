{
 "cells": [
  {
   "cell_type": "code",
   "execution_count": 3,
   "id": "175f3040",
   "metadata": {},
   "outputs": [
    {
     "name": "stdout",
     "output_type": "stream",
     "text": [
      "age                  0\n",
      "workclass            0\n",
      "fnlwgt               0\n",
      "education            0\n",
      "education-num     1843\n",
      "marital-status       0\n",
      "occupation           0\n",
      "relationship         0\n",
      "race                 0\n",
      "sex                  0\n",
      "hours-per-week       0\n",
      "native-country     583\n",
      "income               0\n",
      "dtype: int64\n"
     ]
    }
   ],
   "source": [
    "import pandas as pd\n",
    "\n",
    "# Load the dataset\n",
    "url = 'https://archive.ics.uci.edu/ml/machine-learning-databases/adult/adult.data'\n",
    "column_names = [\n",
    "    'age', 'workclass', 'fnlwgt', 'education', 'education-num', 'marital-status',\n",
    "    'occupation', 'relationship', 'race', 'sex', 'hours-per-week', 'native-country', 'income'\n",
    "]\n",
    "data = pd.read_csv(url, header=None, names=column_names, na_values=' ?')\n",
    "\n",
    "# Get missing data counts\n",
    "missing_data_counts = data.isna().sum()\n",
    "print(missing_data_counts)\n"
   ]
  },
  {
   "cell_type": "markdown",
   "id": "10a30ad5",
   "metadata": {},
   "source": [
    "Summary of Interaction:\n",
    "\n",
    "https://chatgpt.com/share/d6aa6c20-1753-4fca-94f6-392edc8bb700\n",
    "\n",
    "The user requested an amusing, funny, or otherwise interesting dataset that contains missing values and is available online through a clickable URL link. I initially provided a dataset related to the Titanic, but it had errors. After another attempt with a Pokémon dataset, which also had issues, I suggested the UCI Adult dataset, which is known for containing missing values.\n",
    "\n",
    "Upon receiving the correct URL for the UCI Adult dataset, the user asked for a Pandas code snippet to load the dataset and get the counts of missing data. I provided the Python code to load the dataset using Pandas and calculate missing data counts, specifying column names and handling missing values appropriately.\n",
    "\n"
   ]
  }
 ],
 "metadata": {
  "kernelspec": {
   "display_name": "Python 3 (ipykernel)",
   "language": "python",
   "name": "python3"
  },
  "language_info": {
   "codemirror_mode": {
    "name": "ipython",
    "version": 3
   },
   "file_extension": ".py",
   "mimetype": "text/x-python",
   "name": "python",
   "nbconvert_exporter": "python",
   "pygments_lexer": "ipython3",
   "version": "3.11.6"
  }
 },
 "nbformat": 4,
 "nbformat_minor": 5
}
